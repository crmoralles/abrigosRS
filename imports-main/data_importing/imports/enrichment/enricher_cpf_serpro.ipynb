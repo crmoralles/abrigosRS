{
 "cells": [
  {
   "cell_type": "markdown",
   "metadata": {},
   "source": [
    "# CPF enricher\n",
    "O enricher de cpf utiliza a api da serpro para buscar os dados de abrigados e enriquecer o documento na collection abrigado."
   ]
  },
  {
   "cell_type": "code",
   "execution_count": null,
   "metadata": {
    "vscode": {
     "languageId": "shellscript"
    }
   },
   "outputs": [],
   "source": [
    "%load_ext blackcellmagic"
   ]
  },
  {
   "cell_type": "markdown",
   "metadata": {},
   "source": [
    "## Instalação de dependências"
   ]
  },
  {
   "cell_type": "code",
   "execution_count": null,
   "metadata": {
    "dotnet_interactive": {
     "language": "csharp"
    },
    "polyglot_notebook": {
     "kernelName": "csharp"
    },
    "vscode": {
     "languageId": "shellscript"
    }
   },
   "outputs": [],
   "source": [
    "pip install -r ../requirements.txt"
   ]
  },
  {
   "cell_type": "code",
   "execution_count": 2,
   "metadata": {},
   "outputs": [
    {
     "name": "stderr",
     "output_type": "stream",
     "text": [
      ".\n",
      "----------------------------------------------------------------------\n",
      "Ran 1 test in 0.001s\n",
      "\n",
      "OK\n"
     ]
    },
    {
     "name": "stdout",
     "output_type": "stream",
     "text": [
      "Test: function should match the CPF in the string\n"
     ]
    }
   ],
   "source": [
    "## Importação de dependências\n",
    "import os\n",
    "import re\n",
    "import base64\n",
    "import requests\n",
    "import pandas as pd\n",
    "import firebase_admin\n",
    "import uuid\n",
    "import json\n",
    "import sys\n",
    "import math\n",
    "from firebase_admin import credentials\n",
    "from firebase_admin import firestore\n",
    "from dataclasses import dataclass, field\n",
    "from typing import Optional, List, Dict\n",
    "from enum import Enum\n",
    "from datetime import datetime, timezone\n",
    "\n",
    "sys.path.append(\"../../modules/environment_selector\")\n",
    "from selector import environment_selector\n",
    "\n",
    "sys.path.append(\"../../modules/firebase_manager\")\n",
    "from firestore_query_batch import query_batch\n",
    "from firestore_model_abrigo_legacy import AbrigoLegacyEntity\n",
    "from firestore_upload_data import upload_to_firestore\n",
    "\n",
    "sys.path.append(\"../../modules/data_type_handler\")\n",
    "from nome import normalize_nome\n",
    "from cpf import extract_cpf "
   ]
  },
  {
   "cell_type": "markdown",
   "metadata": {},
   "source": [
    "## Configuração"
   ]
  },
  {
   "cell_type": "markdown",
   "metadata": {},
   "source": [
    "### Environment Selector"
   ]
  },
  {
   "cell_type": "code",
   "execution_count": null,
   "metadata": {},
   "outputs": [],
   "source": [
    "environment_selector()"
   ]
  },
  {
   "cell_type": "markdown",
   "metadata": {},
   "source": [
    "### Configura chaves e parâmetros"
   ]
  },
  {
   "cell_type": "code",
   "execution_count": null,
   "metadata": {},
   "outputs": [],
   "source": [
    "# Firebase Firestore Config\n",
    "base_path = os.getenv(\"SOSRS_BASEPATH\")\n",
    "sosrs_environment = os.getenv(\"SOSRS_ENVIRONMENT\")\n",
    "sosrs_firestore_keyfile = os.getenv(\"SOSRS_FIRESTORE_KEYFILE\")\n",
    "sosrs_firestore_path = os.path.join(base_path, sosrs_firestore_keyfile)\n",
    "\n",
    "# CPF Enricher Service Config\n",
    "serpro_customer_key = os.getenv(\"SERPRO_CPF_CUSTOMER_KEY\")\n",
    "serpro_customer_secret = os.getenv(\"SERPRO_CPF_CONSUMER_SECRET\")\n",
    "serpro_development_bearer_token = os.getenv(\"SERPRO_CPF_BEARER_TOKEN\")\n",
    "serpro_service_url = os.getenv(\"SERPRO_CPF_SERVICE_URL\")\n",
    "serpro_service_auth_url = os.getenv(\"SERPRO_CPF_AUTH_URL\")\n",
    "serpro_service_token_ttl_secs = os.getenv(\"SERPRO_CPF_TOKEN_TTL_SECS\")\n",
    "serpro_path_get_cpf = os.getenv(\"SERPRO_CPF_PATH_GET_CPF\")\n",
    "serpro_path_get_cpf_status = os.getenv(\"SERPRO_CPF_PATH_GET_CPF_STATUS\")"
   ]
  },
  {
   "cell_type": "markdown",
   "metadata": {},
   "source": [
    "### Autenticação do Serpro\n",
    "Autenticação com serviço de consulta de CPF.\n",
    "Dado a característica da API, que utiliza o mesmo endpoint para ambos os ambientes, modificando apenas o path."
   ]
  },
  {
   "cell_type": "code",
   "execution_count": null,
   "metadata": {},
   "outputs": [],
   "source": [
    "# Define header condicional para suporte ambiente de desenvolvimento e produção\n",
    "bear_token = None\n",
    "\n",
    "if sosrs_environment == \"development\":\n",
    "    bear_token = serpro_development_bearer_token\n",
    "else:\n",
    "    credentials = (f\"{serpro_customer_key}:{serpro_customer_secret}\").encode(\"utf-8\")\n",
    "    credentials_base64 = base64.b64encode(credentials)\n",
    "    credentials_base64_encoded = credentials_base64.decode(\"utf-8\")\n",
    "\n",
    "    headers = {\"Authorization\": f\"Basic {credentials_base64_encoded}\", \"Content-Type\": \"application/x-www-form-urlencoded\"}\n",
    "\n",
    "    body = {\"grant_type\": \"client_credentials\"}\n",
    "\n",
    "    response = requests.post(serpro_service_auth_url, headers=headers, data=body)\n",
    "    if response.status_code == 200:\n",
    "        bear_token = response.json()[\"access_token\"]\n",
    "        print(\"Token obtido com sucesso.\")\n",
    "    else:\n",
    "        print(\"Falha ao obter token:\", response.status_code, response.text)\n",
    "\n",
    "print(\"Token de acesso:\", bear_token)"
   ]
  },
  {
   "cell_type": "markdown",
   "metadata": {},
   "source": [
    "#### busca dados de um cpf"
   ]
  },
  {
   "cell_type": "code",
   "execution_count": null,
   "metadata": {},
   "outputs": [],
   "source": [
    "\n",
    "cred = credentials.Certificate(sosrs_firestore_path)\n",
    "firebase_admin.initialize_app(cred)\n",
    "client_firestore = firestore.client()"
   ]
  },
  {
   "cell_type": "code",
   "execution_count": null,
   "metadata": {},
   "outputs": [],
   "source": [
    "# Cria objetos para manipular retorno da API Serpro\n",
    "class CpfSituacao(Enum):\n",
    "    REGULAR = (\"0\", \"Regular\")\n",
    "    SUSPENSA = (\"2\", \"Suspensa\")\n",
    "    TITULAR_FALECIDO = (\"3\", \"Titular Falecido\")\n",
    "    PENDENTE_REGULARIZACAO = (\"4\", \"Pendente de Regularização\")\n",
    "    CANCELADA_MULTIPLICIDADE = (\"5\", \"Cancelada por Multiplicidade\")\n",
    "    NULA = (\"8\", \"Nula\")\n",
    "    CANCELADA_OFICIO = (\"9\", \"Cancelada de Ofício\")\n",
    "\n",
    "    def __init__(self, codigo, descricao):\n",
    "        self.codigo = codigo\n",
    "        self.descricao = descricao\n",
    "\n",
    "    @staticmethod\n",
    "    def from_codigo(codigo):\n",
    "        for situacao in CpfSituacao:\n",
    "            if situacao.codigo == codigo:\n",
    "                return situacao\n",
    "        raise ValueError(f'Codigo de situação do cpf desconhecido: {codigo}. Necessário revisar documentação da API.')\n",
    "        \n",
    "@dataclass\n",
    "class Pessoa:\n",
    "    ni: str\n",
    "    nome: str\n",
    "    nascimento: str\n",
    "    situacao: CpfSituacao"
   ]
  },
  {
   "cell_type": "code",
   "execution_count": null,
   "metadata": {},
   "outputs": [],
   "source": [
    "document_ref = client_firestore.collection(\"abrigado\").document(\"0Be8ybUyY9fNRZqvrHBO\")\n",
    "document = document_ref.get()\n",
    "abrigado = document.to_dict()\n",
    "print(abrigado)\n",
    "\n",
    "cpf = cpf = abrigado[\"responsavel\"][\"documentos\"][\"cpf\"]\n",
    "print(cpf)\n",
    "\n",
    "headers = {\"Authorization\": f\"Bearer {bear_token}\"}\n",
    "\n",
    "# Constroi url\n",
    "# Interpolar o CPF no caminho\n",
    "path_with_cpf = serpro_path_get_cpf.format(num_cpf=cpf)\n",
    "url = f\"{serpro_service_url}{path_with_cpf}\"\n",
    "\n",
    "response = requests.get(url, headers=headers)\n",
    "data = None\n",
    "if response.status_code == 200:\n",
    "    data = response.json()\n",
    "    print(data)\n",
    "else:\n",
    "    None\n",
    "    \n",
    "pessoa = Pessoa(\n",
    "    ni=data['ni'],\n",
    "    nome=data['nome'],\n",
    "    nascimento=data['nascimento'],\n",
    "    situacao=CpfSituacao.from_codigo(data['situacao']['codigo'])  # Passando o objeto Enum\n",
    ")\n",
    "\n",
    "print(pessoa)"
   ]
  },
  {
   "cell_type": "code",
   "execution_count": null,
   "metadata": {},
   "outputs": [],
   "source": []
  },
  {
   "cell_type": "markdown",
   "metadata": {},
   "source": [
    "## Enriquecimento de dados abrigados\n",
    "\n",
    "##### Códigos de erro"
   ]
  },
  {
   "cell_type": "markdown",
   "metadata": {},
   "source": [
    "### Verifica o status do CPF\n",
    "O objetivo é fazer um análise do CPF em um status fraudulento, como por exemplo, o CPF de uma pessoa falecida."
   ]
  },
  {
   "cell_type": "code",
   "execution_count": null,
   "metadata": {},
   "outputs": [],
   "source": [
    "# # Definir o nome da coleção e o arquivo de saída\n",
    "# collection_name = \"abrigado\"\n",
    "# output_file = \"../temp/abrigado_export.xlsx\"\n",
    "\n",
    "\n",
    "# def datetime_converter(o):\n",
    "#     if isinstance(o, datetime):\n",
    "#         return o.__str__()\n",
    "\n",
    "\n",
    "# def load_collection(collection_name):\n",
    "#     try:\n",
    "#         collection_ref = client_firestore.collection(collection_name)\n",
    "#         docs = collection_ref.stream()\n",
    "\n",
    "#         all_docs = []\n",
    "#         for doc in docs:\n",
    "#             try:\n",
    "#                 doc_dict = doc.to_dict()\n",
    "#                 for key, value in doc_dict.items():\n",
    "#                     if isinstance(value, datetime):\n",
    "#                         doc_dict[key] = value.isoformat()\n",
    "#                 all_docs.append(\n",
    "#                     doc_dict\n",
    "#                 )  # Certifique-se que esta linha está dentro do loop\n",
    "#             except Exception as e:\n",
    "#                 print(f\"Erro ao processar documento {doc.id}: {e}\")\n",
    "\n",
    "#         if not all_docs:  # Checa se a lista está vazia\n",
    "#             print(\"Nenhum documento foi carregado da coleção.\")\n",
    "#         return all_docs\n",
    "\n",
    "#     except Exception as e:\n",
    "#         print(f\"Erro ao carregar coleção: {e}\")\n",
    "#         return []\n",
    "\n",
    "\n",
    "# def export_to_excel(data, output_file):\n",
    "#     try:\n",
    "#         # Criando um DataFrame a partir dos dados\n",
    "#         df = pd.DataFrame(data)\n",
    "\n",
    "#         if df.empty:  # Verifica se o DataFrame está vazio\n",
    "#             print(\"O DataFrame está vazio. Nenhum dado para exportar.\")\n",
    "#         else:\n",
    "#             # Salvando o DataFrame em um arquivo Excel\n",
    "#             df.to_excel(output_file, index=False)\n",
    "#             print(f\"Dados exportados para {output_file}\")\n",
    "\n",
    "#     except Exception as e:\n",
    "#         print(f\"Erro ao salvar arquivo Excel: {e}\")\n",
    "\n",
    "\n",
    "# # Carregando dados da coleção\n",
    "# data = load_collection(collection_name)\n",
    "\n",
    "# # Exportando dados para o arquivo Excel\n",
    "# export_to_excel(data, output_file)"
   ]
  }
 ],
 "metadata": {
  "kernelspec": {
   "display_name": "Python 3",
   "language": "python",
   "name": "python3"
  },
  "language_info": {
   "codemirror_mode": {
    "name": "ipython",
    "version": 3
   },
   "file_extension": ".py",
   "mimetype": "text/x-python",
   "name": "python",
   "nbconvert_exporter": "python",
   "pygments_lexer": "ipython3",
   "version": "3.12.3"
  },
  "polyglot_notebook": {
   "kernelInfo": {
    "defaultKernelName": "csharp",
    "items": [
     {
      "aliases": [],
      "name": "csharp"
     }
    ]
   }
  }
 },
 "nbformat": 4,
 "nbformat_minor": 2
}
