{
 "cells": [
  {
   "cell_type": "markdown",
   "metadata": {
    "notebookRunGroups": {
     "groupValue": "1"
    }
   },
   "source": [
    "# Cargas de abrigados por template - V2\n",
    "\n",
    "O template loader é uma carga realizada com base no template `import_abrigados_template_v2.googlesheets.md`.\n",
    "Esse notebook processa dois fluxos, sendo:\n",
    "- Tratamento, transformação e evolução de dados de abrigados até a persiência no Firestore.\n",
    "- Criação de novos objetos para enriquecimento em processos como evolução das aplicações, analytcs entre outros.\n",
    "\n",
    "> **Template file**\n",
    ">\n",
    "> template_loader\\templates\\import_abrigados_template_v2.googlesheets.md\n"
   ]
  },
  {
   "cell_type": "markdown",
   "metadata": {},
   "source": [
    "#### Configuração do notebook\n",
    "Faz import de módulos e configura linter."
   ]
  },
  {
   "cell_type": "code",
   "execution_count": null,
   "metadata": {
    "notebookRunGroups": {
     "groupValue": "1"
    },
    "tags": [
     "bootstrap"
    ],
    "vscode": {
     "languageId": "shellscript"
    }
   },
   "outputs": [],
   "source": [
    "%load_ext blackcellmagic"
   ]
  },
  {
   "cell_type": "markdown",
   "metadata": {},
   "source": [
    "##### Instalação de dependências\n"
   ]
  },
  {
   "cell_type": "code",
   "execution_count": null,
   "metadata": {
    "notebookRunGroups": {
     "groupValue": "1"
    },
    "tags": [
     "bootstrap"
    ]
   },
   "outputs": [],
   "source": [
    "import re\n",
    "import os\n",
    "import pandas as pd\n",
    "import firebase_admin\n",
    "from firebase_admin import credentials\n",
    "from firebase_admin import firestore\n",
    "from dataclasses import dataclass, field\n",
    "from typing import Optional, List, Dict\n",
    "import uuid\n",
    "import sys\n",
    "from datetime import datetime\n",
    "from enum import Enum\n",
    "from selector import environment_selector\n",
    "from firestore_model_abrigado import AbrigadoEntity, MembroFamiliarEntity, DocumentosEntity, InformacaoAdicionalEntity\n",
    "from firestore_upload_data import upload_to_firestore, upload_to_firestore_checking_duplicated, update_firestore_single_document\n",
    "from firestore_query_batch import query_batch\n",
    "from nome import normalize_nome\n",
    "from datetime_xlsx import format_xlsx_datetime\n",
    "from documento import format_documento, is_cpf\n",
    "from additional_info import format_additional_info, sanitize_additional_info\n",
    "from guard import guard_pd_notnull\n",
    "from abrigo_dict import get_abrigo_info\n",
    "\n",
    "# Legacy entities\n",
    "from firestore_model_abrigado_legacy import AbrigadoLegacyEntity, MembroFamiliarLegacyEntity, DocumentoLegacyEntity, ResponsavelLegacyEntity"
   ]
  },
  {
   "cell_type": "markdown",
   "metadata": {},
   "source": [
    "#### Environment Selector\n",
    "Seleciona manualmente o ambiente de trabalho. O objetivo é evitar erros durante as cargas manuais. Para mais detalhes do ambiente acesse o README.md."
   ]
  },
  {
   "cell_type": "code",
   "execution_count": null,
   "metadata": {
    "notebookRunGroups": {
     "groupValue": "1"
    },
    "tags": [
     "env-config"
    ]
   },
   "outputs": [],
   "source": [
    "environment_selector()"
   ]
  },
  {
   "cell_type": "markdown",
   "metadata": {},
   "source": [
    "### Bootstrap - Configura e carrega ambiente de trabalho\n"
   ]
  },
  {
   "cell_type": "markdown",
   "metadata": {
    "tags": [
     "load-env"
    ]
   },
   "source": [
    "#### Configura chaves e parâmetros\n",
    "Carrega as variáveis de ambiente e seta o nome da collection de trabalho."
   ]
  },
  {
   "cell_type": "code",
   "execution_count": null,
   "metadata": {
    "notebookRunGroups": {
     "groupValue": "1"
    },
    "tags": [
     "env-config"
    ]
   },
   "outputs": [],
   "source": [
    "# Firebase Firestore Config\n",
    "base_path = os.getenv(\"SOSRS_BASEPATH\")\n",
    "sosrs_environment = os.getenv(\"SOSRS_ENVIRONMENT\")\n",
    "sosrs_firestore_keyfile = os.getenv(\"SOSRS_FIRESTORE_KEYFILE\")\n",
    "sosrs_firestore_path = os.path.join(base_path, sosrs_firestore_keyfile)\n",
    "\n",
    "# Firestore Collection\n",
    "collection_name = \"abrigado_master\"\n",
    "\n",
    "# Firestore Collection Legacy\n",
    "collection_name_legacy = \"abrigado\""
   ]
  },
  {
   "cell_type": "markdown",
   "metadata": {},
   "source": [
    "#### Autenticação do notebook\n",
    "Cria um objeto de conexão com o Firestore do Firebase."
   ]
  },
  {
   "cell_type": "code",
   "execution_count": null,
   "metadata": {
    "tags": [
     "env-config"
    ]
   },
   "outputs": [],
   "source": [
    "# Inicialização do Firebase\n",
    "cred = credentials.Certificate(sosrs_firestore_path)\n",
    "firebase_admin.initialize_app(cred)\n",
    "clientFirestore = firestore.client()"
   ]
  },
  {
   "cell_type": "markdown",
   "metadata": {},
   "source": [
    "## Datasource - Configura fontes externas e coleções estáticas\n",
    "Configuração de sources e dicionários utilizados no pipeline."
   ]
  },
  {
   "cell_type": "markdown",
   "metadata": {},
   "source": [
    "### Configuração de datasources\n",
    "Define o caminho dos arquivos que serão manupados, nome de abas, dicionários entre outros."
   ]
  },
  {
   "cell_type": "code",
   "execution_count": null,
   "metadata": {
    "tags": [
     "setup"
    ]
   },
   "outputs": [],
   "source": [
    "# Configuração do datasource\n",
    "datasource_file = \"./pipeline/.working/igreja_batista_nacional_de_porto_alegre_nexus_1005_gustavogr_20240510_2032_template.xlsx\"\n",
    "missing_abrigo = \"./pipeline/.working/missing_abrigo.json\"\n",
    "master_data_sheet = \"abrigados\""
   ]
  },
  {
   "cell_type": "markdown",
   "metadata": {},
   "source": [
    "## Template - Parametrização do template e estruturas de dados utilizadas\n",
    "Define parametros e configurações relativos ao template, como nome de colunas, quantidade, entre outros."
   ]
  },
  {
   "cell_type": "markdown",
   "metadata": {},
   "source": [
    "#### Nomes de colunas\n",
    "Mapeia a quantidade de colunas do template e define o nome das colunas utilizadas pelo pandas na importação."
   ]
  },
  {
   "cell_type": "code",
   "execution_count": null,
   "metadata": {},
   "outputs": [],
   "source": [
    "# Total de colunas\n",
    "number_of_columns = 79\n",
    "\n",
    "# Define o número de familiares recebidos por abrigado\n",
    "numero_de_familiares = 10\n",
    "\n",
    "# Define o número de propriedades por familiar\n",
    "numero_de_propriedades_por_familiar = 5\n",
    "\n",
    "# Define o número de informações adicionais recebidos\n",
    "numero_de_informacoes_adicionais = 5\n",
    "\n",
    "# Define o nome das colunas do arquivo de entrada\n",
    "column_names = [\n",
    "    \"abrigo_nome\",\n",
    "    \"abrigo_data_entrada\",\n",
    "    \"abrigo_data_saida\",\n",
    "    \"abrigado_nome\",\n",
    "    \"abrigado_nome_mae\",\n",
    "    \"abrigado_data_nascimento\",\n",
    "    \"abrigado_idade\",\n",
    "    \"abrigado_rg\",\n",
    "    \"abrigado_cpf\",\n",
    "    \"abrigado_nis\",\n",
    "    \"abrigado_titulo_eleitor\",\n",
    "    \"abrigado_outros_documentos\",\n",
    "    \"abrigado_telefone\",\n",
    "    \"abrigado_endereco\",\n",
    "    \"abrigado_bairro\",\n",
    "    \"abrigado_cidade\",\n",
    "    \"abrigado_beneficio_possui\",\n",
    "    \"abrigado_beneficio_nome\",\n",
    "    \"abrigado_beneficio_valor\",\n",
    "    \"abrigado_saude_condicao\",\n",
    "    \"abrigado_saude_medicamentos\",\n",
    "    \"familiar1_nome\",\n",
    "    \"familiar1_data_nascimento\",\n",
    "    \"familiar1_idade\",\n",
    "    \"familiar1_parentesco\",\n",
    "    \"familiar1_documentos\",\n",
    "    \"familiar2_nome\",\n",
    "    \"familiar2_data_nascimento\",\n",
    "    \"familiar2_idade\",\n",
    "    \"familiar2_parentesco\",\n",
    "    \"familiar2_documentos\",\n",
    "    \"familiar3_nome\",\n",
    "    \"familiar3_data_nascimento\",\n",
    "    \"familiar3_idade\",\n",
    "    \"familiar3_parentesco\",\n",
    "    \"familiar3_documentos\",\n",
    "    \"familiar4_nome\",\n",
    "    \"familiar4_data_nascimento\",\n",
    "    \"familiar4_idade\",\n",
    "    \"familiar4_parentesco\",\n",
    "    \"familiar4_documentos\",\n",
    "    \"familiar5_nome\",\n",
    "    \"familiar5_data_nascimento\",\n",
    "    \"familiar5_idade\",\n",
    "    \"familiar5_parentesco\",\n",
    "    \"familiar5_documentos\",\n",
    "    \"familiar6_nome\",\n",
    "    \"familiar6_data_nascimento\",\n",
    "    \"familiar6_idade\",\n",
    "    \"familiar6_parentesco\",\n",
    "    \"familiar6_documentos\",\n",
    "    \"familiar7_nome\",\n",
    "    \"familiar7_data_nascimento\",\n",
    "    \"familiar7_idade\",\n",
    "    \"familiar7_parentesco\",\n",
    "    \"familiar7_documentos\",\n",
    "    \"familiar8_nome\",\n",
    "    \"familiar8_data_nascimento\",\n",
    "    \"familiar8_idade\",\n",
    "    \"familiar8_parentesco\",\n",
    "    \"familiar8_documentos\",\n",
    "    \"familiar9_nome\",\n",
    "    \"familiar9_data_nascimento\",\n",
    "    \"familiar9_idade\",\n",
    "    \"familiar9_parentesco\",\n",
    "    \"familiar9_documentos\",\n",
    "    \"familiar10_nome\",\n",
    "    \"familiar10_data_nascimento\",\n",
    "    \"familiar10_idade\",\n",
    "    \"familiar10_parentesco\",\n",
    "    \"familiar10_documentos\",\n",
    "    \"adicional_redes_de_apoio_informacoes\",\n",
    "    \"adicional_pet_quantidade\",\n",
    "    \"adicional_pet_descricao\",\n",
    "    \"adicional_informacao1\",\n",
    "    \"adicional_informacao2\",\n",
    "    \"adicional_informacao3\",\n",
    "    \"adicional_informacao4\",\n",
    "    \"adicional_informacao5\",\n",
    "]"
   ]
  },
  {
   "cell_type": "markdown",
   "metadata": {},
   "source": [
    "#### Enumerador de colunas utilizadas na carga\n",
    "O objetivo é ter o nome da coluna mapeado em um enum ao invés de declarar uma string. Isso é util para evitar erros no processo, principalmente nos cenários onde é necessario fazer referência a uma coluna."
   ]
  },
  {
   "cell_type": "code",
   "execution_count": null,
   "metadata": {},
   "outputs": [],
   "source": [
    "class ColumnsNameEnum(Enum):\n",
    "    ABRIGO_NOME = \"abrigo_nome\"\n",
    "    ABRIGO_DATA_ENTRADA = \"abrigo_data_entrada\"\n",
    "    ABRIGO_DATA_SAIDA = \"abrigo_data_saida\"\n",
    "    ABRIGADO_NOME = \"abrigado_nome\"\n",
    "    ABRIGADO_NOME_MAE = \"abrigado_nome_mae\"\n",
    "    ABRIGADO_DATA_NASCIMENTO = \"abrigado_data_nascimento\"\n",
    "    ABRIGADO_IDADE = \"abrigado_idade\"\n",
    "    ABRIGADO_RG = \"abrigado_rg\"\n",
    "    ABRIGADO_CPF = \"abrigado_cpf\"\n",
    "    ABRIGADO_NIS = \"abrigado_nis\"\n",
    "    ABRIGADO_TITULO_ELEITOR = \"abrigado_titulo_eleitor\"\n",
    "    ABRIGADO_OUTROS_DOCUMENTOS = \"abrigado_outros_documentos\"\n",
    "    ABRIGADO_TELEFONE = \"abrigado_telefone\"\n",
    "    ABRIGADO_ENDERECO = \"abrigado_endereco\"\n",
    "    ABRIGADO_BAIRRO = \"abrigado_bairro\"\n",
    "    ABRIGADO_CIDADE = \"abrigado_cidade\"\n",
    "    ABRIGADO_BENEFICIO_POSSUI = \"abrigado_beneficio_possui\"\n",
    "    ABRIGADO_BENEFICIO_NOME = \"abrigado_beneficio_nome\"\n",
    "    ABRIGADO_BENEFICIO_VALOR = \"abrigado_beneficio_valor\"\n",
    "    ABRIGADO_SAUDE_CONDICAO = \"abrigado_saude_condicao\"\n",
    "    ABRIGADO_SAUDE_MEDICAMENTOS = \"abrigado_saude_medicamentos\"\n",
    "    FAMILIAR1_NOME = \"familiar1_nome\"\n",
    "    FAMILIAR1_DATA_NASCIMENTO = \"familiar1_data_nascimento\"\n",
    "    FAMILIAR1_IDADE = \"familiar1_idade\"\n",
    "    FAMILIAR1_PARENTESCO = \"familiar1_parentesco\"\n",
    "    FAMILIAR1_DOCUMENTOS = \"familiar1_documentos\"\n",
    "    FAMILIAR2_NOME = \"familiar2_nome\"\n",
    "    FAMILIAR2_DATA_NASCIMENTO = \"familiar2_data_nascimento\"\n",
    "    FAMILIAR2_IDADE = \"familiar2_idade\"\n",
    "    FAMILIAR2_PARENTESCO = \"familiar2_parentesco\"\n",
    "    FAMILIAR2_DOCUMENTOS = \"familiar2_documentos\"\n",
    "    FAMILIAR3_NOME = \"familiar3_nome\"\n",
    "    FAMILIAR3_DATA_NASCIMENTO = \"familiar3_data_nascimento\"\n",
    "    FAMILIAR3_IDADE = \"familiar3_idade\"\n",
    "    FAMILIAR3_PARENTESCO = \"familiar3_parentesco\"\n",
    "    FAMILIAR3_DOCUMENTOS = \"familiar3_documentos\"\n",
    "    FAMILIAR4_NOME = \"familiar4_nome\"\n",
    "    FAMILIAR4_DATA_NASCIMENTO = \"familiar4_data_nascimento\"\n",
    "    FAMILIAR4_IDADE = \"familiar4_idade\"\n",
    "    FAMILIAR4_PARENTESCO = \"familiar4_parentesco\"\n",
    "    FAMILIAR4_DOCUMENTOS = \"familiar4_documentos\"\n",
    "    FAMILIAR5_NOME = \"familiar5_nome\"\n",
    "    FAMILIAR5_DATA_NASCIMENTO = \"familiar5_data_nascimento\"\n",
    "    FAMILIAR5_IDADE = \"familiar5_idade\"\n",
    "    FAMILIAR5_PARENTESCO = \"familiar5_parentesco\"\n",
    "    FAMILIAR5_DOCUMENTOS = \"familiar5_documentos\"\n",
    "    FAMILIAR6_NOME = \"familiar6_nome\"\n",
    "    FAMILIAR6_DATA_NASCIMENTO = \"familiar6_data_nascimento\"\n",
    "    FAMILIAR6_IDADE = \"familiar6_idade\"\n",
    "    FAMILIAR6_PARENTESCO = \"familiar6_parentesco\"\n",
    "    FAMILIAR6_DOCUMENTOS = \"familiar6_documentos\"\n",
    "    FAMILIAR7_NOME = \"familiar7_nome\"\n",
    "    FAMILIAR7_DATA_NASCIMENTO = \"familiar7_data_nascimento\"\n",
    "    FAMILIAR7_IDADE = \"familiar7_idade\"\n",
    "    FAMILIAR7_PARENTESCO = \"familiar7_parentesco\"\n",
    "    FAMILIAR7_DOCUMENTOS = \"familiar7_documentos\"\n",
    "    FAMILIAR8_NOME = \"familiar8_nome\"\n",
    "    FAMILIAR8_DATA_NASCIMENTO = \"familiar8_data_nascimento\"\n",
    "    FAMILIAR8_IDADE = \"familiar8_idade\"\n",
    "    FAMILIAR8_PARENTESCO = \"familiar8_parentesco\"\n",
    "    FAMILIAR8_DOCUMENTOS = \"familiar8_documentos\"\n",
    "    FAMILIAR9_NOME = \"familiar9_nome\"\n",
    "    FAMILIAR9_DATA_NASCIMENTO = \"familiar9_data_nascimento\"\n",
    "    FAMILIAR9_IDADE = \"familiar9_idade\"\n",
    "    FAMILIAR9_PARENTESCO = \"familiar9_parentesco\"\n",
    "    FAMILIAR9_DOCUMENTOS = \"familiar9_documentos\"\n",
    "    FAMILIAR10_NOME = \"familiar10_nome\"\n",
    "    FAMILIAR10_DATA_NASCIMENTO = \"familiar10_data_nascimento\"\n",
    "    FAMILIAR10_IDADE = \"familiar10_idade\"\n",
    "    FAMILIAR10_PARENTESCO = \"familiar10_parentesco\"\n",
    "    FAMILIAR10_DOCUMENTOS = \"familiar10_documentos\"\n",
    "    ADICIONAL_REDES_DE_APOIO_INFORMACOES = \"adicional_redes_de_apoio_informacoes\"\n",
    "    ADICIONAL_PET_QUANTIDADE = \"adicional_pet_quantidade\"\n",
    "    ADICIONAL_PET_DESCRICAO = \"adicional_pet_descricao\"\n",
    "    ADICIONAL_INFORMACAO1 = \"adicional_informacao1\"\n",
    "    ADICIONAL_INFORMACAO2 = \"adicional_informacao2\"\n",
    "    ADICIONAL_INFORMACAO3 = \"adicional_informacao3\"\n",
    "    ADICIONAL_INFORMACAO4 = \"adicional_informacao4\"\n",
    "    ADICIONAL_INFORMACAO5 = \"adicional_informacao5\"\n",
    "    SEARCH_FIELD_NAME = \"search_field_name\""
   ]
  },
  {
   "cell_type": "markdown",
   "metadata": {},
   "source": [
    "#### Enumeradores e coleçãos para dados Familiares\n",
    "Define coleções e enumeradores com o nome de colunas de dados familiares para processos de manupulação de dados de familiares."
   ]
  },
  {
   "cell_type": "markdown",
   "metadata": {},
   "source": [
    "##### Coleção de colunas de Familiares\n",
    "Define coleção das colunas utilizadas para coletar informações de familiares."
   ]
  },
  {
   "cell_type": "code",
   "execution_count": null,
   "metadata": {},
   "outputs": [],
   "source": [
    "FamiliaresColumns = [\n",
    "    ColumnsNameEnum.FAMILIAR1_NOME.value,\n",
    "    ColumnsNameEnum.FAMILIAR1_DATA_NASCIMENTO.value,\n",
    "    ColumnsNameEnum.FAMILIAR1_IDADE.value,\n",
    "    ColumnsNameEnum.FAMILIAR1_PARENTESCO.value,\n",
    "    ColumnsNameEnum.FAMILIAR1_DOCUMENTOS.value,\n",
    "    ColumnsNameEnum.FAMILIAR2_NOME.value,\n",
    "    ColumnsNameEnum.FAMILIAR2_DATA_NASCIMENTO.value,\n",
    "    ColumnsNameEnum.FAMILIAR2_IDADE.value,\n",
    "    ColumnsNameEnum.FAMILIAR2_PARENTESCO.value,\n",
    "    ColumnsNameEnum.FAMILIAR2_DOCUMENTOS.value,\n",
    "    ColumnsNameEnum.FAMILIAR3_NOME.value,\n",
    "    ColumnsNameEnum.FAMILIAR3_DATA_NASCIMENTO.value,\n",
    "    ColumnsNameEnum.FAMILIAR3_IDADE.value,\n",
    "    ColumnsNameEnum.FAMILIAR3_PARENTESCO.value,\n",
    "    ColumnsNameEnum.FAMILIAR3_DOCUMENTOS.value,\n",
    "    ColumnsNameEnum.FAMILIAR4_NOME.value,\n",
    "    ColumnsNameEnum.FAMILIAR4_DATA_NASCIMENTO.value,\n",
    "    ColumnsNameEnum.FAMILIAR4_IDADE.value,\n",
    "    ColumnsNameEnum.FAMILIAR4_PARENTESCO.value,\n",
    "    ColumnsNameEnum.FAMILIAR4_DOCUMENTOS.value,\n",
    "    ColumnsNameEnum.FAMILIAR5_NOME.value,\n",
    "    ColumnsNameEnum.FAMILIAR5_DATA_NASCIMENTO.value,\n",
    "    ColumnsNameEnum.FAMILIAR5_IDADE.value,\n",
    "    ColumnsNameEnum.FAMILIAR5_PARENTESCO.value,\n",
    "    ColumnsNameEnum.FAMILIAR5_DOCUMENTOS.value,\n",
    "    ColumnsNameEnum.FAMILIAR6_NOME.value,\n",
    "    ColumnsNameEnum.FAMILIAR6_DATA_NASCIMENTO.value,\n",
    "    ColumnsNameEnum.FAMILIAR6_IDADE.value,\n",
    "    ColumnsNameEnum.FAMILIAR6_PARENTESCO.value,\n",
    "    ColumnsNameEnum.FAMILIAR6_DOCUMENTOS.value,\n",
    "    ColumnsNameEnum.FAMILIAR7_NOME.value,\n",
    "    ColumnsNameEnum.FAMILIAR7_DATA_NASCIMENTO.value,\n",
    "    ColumnsNameEnum.FAMILIAR7_IDADE.value,\n",
    "    ColumnsNameEnum.FAMILIAR7_PARENTESCO.value,\n",
    "    ColumnsNameEnum.FAMILIAR7_DOCUMENTOS.value,\n",
    "    ColumnsNameEnum.FAMILIAR8_NOME.value,\n",
    "    ColumnsNameEnum.FAMILIAR8_DATA_NASCIMENTO.value,\n",
    "    ColumnsNameEnum.FAMILIAR8_IDADE.value,\n",
    "    ColumnsNameEnum.FAMILIAR8_PARENTESCO.value,\n",
    "    ColumnsNameEnum.FAMILIAR8_DOCUMENTOS.value,\n",
    "    ColumnsNameEnum.FAMILIAR9_NOME.value,\n",
    "    ColumnsNameEnum.FAMILIAR9_DATA_NASCIMENTO.value,\n",
    "    ColumnsNameEnum.FAMILIAR9_IDADE.value,\n",
    "    ColumnsNameEnum.FAMILIAR9_PARENTESCO.value,\n",
    "    ColumnsNameEnum.FAMILIAR9_DOCUMENTOS.value,\n",
    "    ColumnsNameEnum.FAMILIAR10_NOME.value,\n",
    "    ColumnsNameEnum.FAMILIAR10_DATA_NASCIMENTO.value,\n",
    "    ColumnsNameEnum.FAMILIAR10_IDADE.value,\n",
    "    ColumnsNameEnum.FAMILIAR10_PARENTESCO.value,\n",
    "    ColumnsNameEnum.FAMILIAR10_DOCUMENTOS.value,\n",
    "]"
   ]
  },
  {
   "cell_type": "markdown",
   "metadata": {},
   "source": [
    "##### Enumeradores de constantes de colunas de Familiares\n",
    "Enumera as constantes utilizadas para laços nas colunas de informações familiares."
   ]
  },
  {
   "cell_type": "code",
   "execution_count": null,
   "metadata": {},
   "outputs": [],
   "source": [
    "class FamiliaresConstansts(Enum):\n",
    "    FAMILIAR = \"familiar\"\n",
    "    NOME = \"nome\"\n",
    "    DATA_NASCIMENTO = \"data_nascimento\"\n",
    "    IDADE = \"idade\"\n",
    "    PARENTESCO = \"parentesco\"\n",
    "    DOCUMENTOS = \"documentos\""
   ]
  },
  {
   "cell_type": "markdown",
   "metadata": {},
   "source": [
    "#### Enumerador de colunas de informações adicionais\n",
    "Cria um enumerador com as propriedades e informações adicionais que fazem parte do template."
   ]
  },
  {
   "cell_type": "code",
   "execution_count": null,
   "metadata": {},
   "outputs": [],
   "source": [
    "class InformacaoAdicionalColumns(Enum):\n",
    "    ADICIONAL_INFORMACAO1 = (ColumnsNameEnum.ADICIONAL_INFORMACAO1.value,)\n",
    "    ADICIONAL_INFORMACAO2 = (ColumnsNameEnum.ADICIONAL_INFORMACAO2.value,)\n",
    "    ADICIONAL_INFORMACAO3 = (ColumnsNameEnum.ADICIONAL_INFORMACAO3.value,)\n",
    "    ADICIONAL_INFORMACAO4 = (ColumnsNameEnum.ADICIONAL_INFORMACAO4.value,)\n",
    "    ADICIONAL_INFORMACAO5 = (ColumnsNameEnum.ADICIONAL_INFORMACAO5.value,)"
   ]
  },
  {
   "cell_type": "markdown",
   "metadata": {},
   "source": [
    "#### Enumerador de constantes\n",
    "Define constantes utilizadas no processo."
   ]
  },
  {
   "cell_type": "code",
   "execution_count": null,
   "metadata": {},
   "outputs": [],
   "source": [
    "class Constants(Enum):\n",
    "    ABRIGO = \"abrigo\"\n",
    "    '''Usa chave definida no dicionário de abrigos para identificar pessoas sem abrigo'''\n",
    "    SEM_ABRIGO = \"semabrigo\"\n",
    "    \"\"\"Usa chave definada no dicionário de abrigos para identificar abrigo não informado\"\"\"\n",
    "    ABRIGO_NAO_INFORMADO = \"abrigononaoinformadonaimportacao\""
   ]
  },
  {
   "cell_type": "markdown",
   "metadata": {},
   "source": [
    "#### Colunas para filtro de duplicados\n",
    "Cria lista com filtros utilizados para verificação de registros duplicados na planilha carregada."
   ]
  },
  {
   "cell_type": "code",
   "execution_count": null,
   "metadata": {},
   "outputs": [],
   "source": [
    "# Define as colunas para verificar duplicatas\n",
    "duplicate_columns_filter = [\n",
    "    ColumnsNameEnum.ABRIGADO_NOME.value,\n",
    "    ColumnsNameEnum.ABRIGADO_NOME_MAE.value,\n",
    "    ColumnsNameEnum.ABRIGADO_RG.value,\n",
    "    ColumnsNameEnum.ABRIGADO_CPF.value,\n",
    "    ColumnsNameEnum.ABRIGADO_NIS.value,\n",
    "    ColumnsNameEnum.ABRIGADO_TITULO_ELEITOR.value,\n",
    "    ColumnsNameEnum.ABRIGADO_OUTROS_DOCUMENTOS.value,\n",
    "]"
   ]
  },
  {
   "cell_type": "markdown",
   "metadata": {},
   "source": [
    "#### Coluna de datas para comparações\n",
    "A forma como excel trata data pode gerar problemas durante o processo de comparação de registros. Para evitar problemas, todas as colunas do tipo data são removidas durante a comparação e posteriormente são adicionadas novamente."
   ]
  },
  {
   "cell_type": "code",
   "execution_count": null,
   "metadata": {},
   "outputs": [],
   "source": [
    "# Define os campos do tipo data que devem ser tratados\n",
    "datetime_fields = [\n",
    "    ColumnsNameEnum.ABRIGO_DATA_ENTRADA.value,\n",
    "    ColumnsNameEnum.ABRIGO_DATA_SAIDA.value,\n",
    "    ColumnsNameEnum.ABRIGADO_DATA_NASCIMENTO.value,\n",
    "    ColumnsNameEnum.FAMILIAR1_DATA_NASCIMENTO.value,\n",
    "    ColumnsNameEnum.FAMILIAR2_DATA_NASCIMENTO.value,\n",
    "    ColumnsNameEnum.FAMILIAR3_DATA_NASCIMENTO.value,\n",
    "    ColumnsNameEnum.FAMILIAR4_DATA_NASCIMENTO.value,\n",
    "    ColumnsNameEnum.FAMILIAR5_DATA_NASCIMENTO.value,\n",
    "    ColumnsNameEnum.FAMILIAR6_DATA_NASCIMENTO.value,\n",
    "    ColumnsNameEnum.FAMILIAR7_DATA_NASCIMENTO.value,\n",
    "    ColumnsNameEnum.FAMILIAR8_DATA_NASCIMENTO.value,\n",
    "    ColumnsNameEnum.FAMILIAR9_DATA_NASCIMENTO.value,\n",
    "    ColumnsNameEnum.FAMILIAR10_DATA_NASCIMENTO.value,\n",
    "]"
   ]
  },
  {
   "cell_type": "markdown",
   "metadata": {},
   "source": [
    "## Funções de transformação\n",
    "Define as funções que serão utilizadas para transformar e/ou osquestrar as transformações no dados."
   ]
  },
  {
   "cell_type": "markdown",
   "metadata": {},
   "source": [
    "### Data Quality\n",
    "Define as funções e estratégias de data quality para o pipeline."
   ]
  },
  {
   "cell_type": "markdown",
   "metadata": {},
   "source": [
    "#### Verificação de registros duplicados e manipução\n",
    "Verifica de forma otimizada, em lotes, se os registros que estão sendo manipulados já estão na collection `abrigado`."
   ]
  },
  {
   "cell_type": "code",
   "execution_count": null,
   "metadata": {
    "tags": [
     "transformation-funcs"
    ]
   },
   "outputs": [],
   "source": [
    "def filter_duplicated_names(client, collection_name, df_for_filtering):\n",
    "    # Consulta nomes\n",
    "    duplicity_check_result = query_batch(client, collection_name, df_for_filtering, ColumnsNameEnum.SEARCH_FIELD_NAME.value, \"in\", 10)\n",
    "\n",
    "    # Filtrar para manter apenas entradas com um ID não None\n",
    "    registered_names = {name: id for name, id in duplicity_check_result.items() if id is not None}\n",
    "\n",
    "    # Lista de nomes já registrados\n",
    "    registered_names_list = list(registered_names.keys())\n",
    "\n",
    "    # Filtrar o DataFrame para remover nomes já registrados\n",
    "    df_filtered = df_for_filtering[~df_for_filtering[ColumnsNameEnum.SEARCH_FIELD_NAME.value].isin(registered_names_list)]\n",
    "\n",
    "    return df_filtered"
   ]
  },
  {
   "cell_type": "markdown",
   "metadata": {},
   "source": [
    "### Transformação\n",
    "Define as funções de transformação, que são responsáveis por construir entidade e fazer validações, principalmente para garantia de consistência.\n",
    "\n",
    "> Importante:\n",
    ">\n",
    "> O processo de carrregamento do arquivo com o pandas aplicas validações e transformações iniciais, como deduplicação de dados da planilha e aplicação de valores padrões, como por exemplo, nome de abrigo default qunado a propriedade abrigo_nome é vazia ou nula."
   ]
  },
  {
   "cell_type": "markdown",
   "metadata": {},
   "source": [
    "#### Construção da entidade Abrigado\n",
    "A entidade Abrigado é a entidade que representa o documento Abrigado no Firestore do Firebase. Essa entidade e suas propriedades precism estar alinhadas com os times de BI e de aplicação. Importante destacar que em função da velocidade de construção o sistema apresenta fragilidade no tratamento dos dados, por isso é necessário ter atenção redobrada na alteração nos tipos de campos ou rename. Novas propriedades, como por exemplo propriedades para analytics, podem ser adicionadas com segurança.\n",
    "As alterações na entidade precisam considerar impactos de performance na aplicação durante os fluxos que fazem manipulação de dados no frontend."
   ]
  },
  {
   "cell_type": "markdown",
   "metadata": {},
   "source": [
    "##### Construção do Abrigado\n",
    "Faz a construção e set das propriedades do abrigado, aplicando validações e transformações."
   ]
  },
  {
   "cell_type": "code",
   "execution_count": null,
   "metadata": {},
   "outputs": [],
   "source": [
    "# Cria uma entidade AbrigadoEntity a partir de uma linha do CSV\n",
    "def create_abrigado_entity(csv_row):\n",
    "\n",
    "    # Obtém informações do abrigo\n",
    "    abrigo_nome, abrigo_id = get_abrigo_info(csv_row[ColumnsNameEnum.ABRIGO_NOME.value])\n",
    "\n",
    "    # Cria entidade abrigado\n",
    "    abrigado_entity = AbrigadoEntity(\n",
    "        abrigo_id=abrigo_id,\n",
    "        abrigo_nome=abrigo_nome,\n",
    "        search_field_name=csv_row[ColumnsNameEnum.SEARCH_FIELD_NAME.value],\n",
    "        abrigado_nome=csv_row[ColumnsNameEnum.ABRIGADO_NOME.value],\n",
    "        abrigado_nome_mae=guard_pd_notnull(csv_row[ColumnsNameEnum.ABRIGADO_NOME_MAE.value]),\n",
    "        abrigado_data_nascimento=guard_pd_notnull(csv_row[ColumnsNameEnum.ABRIGADO_DATA_NASCIMENTO.value]),\n",
    "        abrigado_idade=guard_pd_notnull(csv_row[ColumnsNameEnum.ABRIGADO_IDADE.value]),\n",
    "        documentos=create_documentos_entity(csv_row),\n",
    "        abrigado_telefone=guard_pd_notnull(csv_row[ColumnsNameEnum.ABRIGADO_TELEFONE.value]),\n",
    "        abrigado_endereco=guard_pd_notnull(csv_row[ColumnsNameEnum.ABRIGADO_ENDERECO.value]),\n",
    "        abrigado_bairro=guard_pd_notnull(csv_row[ColumnsNameEnum.ABRIGADO_BAIRRO.value]),\n",
    "        abrigado_cidade=guard_pd_notnull(csv_row[ColumnsNameEnum.ABRIGADO_CIDADE.value]),\n",
    "        abrigado_beneficio_possui=guard_pd_notnull(csv_row[ColumnsNameEnum.ABRIGADO_BENEFICIO_POSSUI.value]),\n",
    "        abrigado_beneficio_nome=guard_pd_notnull(csv_row[ColumnsNameEnum.ABRIGADO_BENEFICIO_NOME.value]),\n",
    "        abrigado_beneficio_valor=guard_pd_notnull(csv_row[ColumnsNameEnum.ABRIGADO_BENEFICIO_VALOR.value]),\n",
    "        abrigado_saude_condicao=guard_pd_notnull(csv_row[ColumnsNameEnum.ABRIGADO_SAUDE_CONDICAO.value]),\n",
    "        abrigado_saude_medicamentos=guard_pd_notnull(csv_row[ColumnsNameEnum.ABRIGADO_SAUDE_MEDICAMENTOS.value]),\n",
    "        familiares=create_familiar_entities(csv_row),\n",
    "        adicional_redes_de_apoio_informacoes=guard_pd_notnull(csv_row[ColumnsNameEnum.ADICIONAL_REDES_DE_APOIO_INFORMACOES.value]),\n",
    "        adicional_pet_quantidade=guard_pd_notnull(csv_row[ColumnsNameEnum.ADICIONAL_PET_QUANTIDADE.value]),\n",
    "        adicional_pet_descricao=guard_pd_notnull(csv_row[ColumnsNameEnum.ADICIONAL_PET_DESCRICAO.value]),\n",
    "        adicional_informacoes=create_adicional_informacao_entity(csv_row),\n",
    "    )\n",
    "\n",
    "    return abrigado_entity"
   ]
  },
  {
   "cell_type": "markdown",
   "metadata": {},
   "source": [
    "##### Construção da entidade FamiliarEntity\n",
    "Membro familiar é a entidade responsável por agragar os familiares do abrigado responsável. O objetivo é registrar um responsável, como por exemplo o pai, e então agregar os familares que estão com ele. Os dados de agregados possui uma quantidade menor de propriedades."
   ]
  },
  {
   "cell_type": "code",
   "execution_count": null,
   "metadata": {},
   "outputs": [],
   "source": [
    "def create_familiar_entities(df: pd.DataFrame) -> List[MembroFamiliarEntity]:\n",
    "    familiares = []\n",
    "\n",
    "    for i in range(1, numero_de_familiares + 1):\n",
    "        # Define o prefixo para as colunas do familiar que utilizam o padrão familiar1_nome, familiar1_data_nascimento, etc\n",
    "        prefix = f\"{FamiliaresConstansts.FAMILIAR.value}{i}_\"\n",
    "\n",
    "        # Define a propriedade nome que é obrigatória\n",
    "        nome = df[f\"{prefix}{FamiliaresConstansts.NOME.value}\"]\n",
    "\n",
    "        if guard_pd_notnull(nome) != None:\n",
    "\n",
    "            # Cria entidade familiar\n",
    "            familiar = MembroFamiliarEntity(\n",
    "                nome=nome,\n",
    "                data_nascimento=guard_pd_notnull(df[f\"{prefix}{FamiliaresConstansts.DATA_NASCIMENTO.value}\"]),\n",
    "                idade=guard_pd_notnull(df[f\"{prefix}{FamiliaresConstansts.IDADE.value}\"]),\n",
    "                parentesco=guard_pd_notnull(df[f\"{prefix}{FamiliaresConstansts.PARENTESCO.value}\"]),\n",
    "                documentos=guard_pd_notnull(df[f\"{prefix}{FamiliaresConstansts.DOCUMENTOS.value}\"]),\n",
    "            )\n",
    "\n",
    "            # Verifica se documento é um cpf\n",
    "            documento = guard_pd_notnull(df[f\"{prefix}{FamiliaresConstansts.DOCUMENTOS.value}\"])\n",
    "            if is_cpf(documento):\n",
    "                familiar.documentos = DocumentosEntity(cpf=documento)\n",
    "            else:\n",
    "                familiar.documentos = DocumentosEntity(outros_documentos=documento) if documento else None\n",
    "\n",
    "            familiares.append(familiar)\n",
    "\n",
    "    return familiares if len(familiares) > 0 else None"
   ]
  },
  {
   "cell_type": "markdown",
   "metadata": {},
   "source": [
    "##### Construção da entidade Documentos e append na entidade Abrigado\n",
    "A entida documentos é responsável por agregar os documentos do Abrigado. Ela é uma entidade para não somente agregar documentos mas para facilitar a sua refatoração no futuro para aplicar estratégias de pseudo-anonimização em função da LGPD."
   ]
  },
  {
   "cell_type": "code",
   "execution_count": null,
   "metadata": {},
   "outputs": [],
   "source": [
    "# Cria uma entidade DocumentosEntity a partir de uma linha do CSV\n",
    "def create_documentos_entity(data: dict) -> DocumentosEntity:\n",
    "    kargs = {}\n",
    "\n",
    "    if pd.notna(data.get(ColumnsNameEnum.ABRIGADO_RG.value)):\n",
    "        kargs[\"rg\"] = data.get(ColumnsNameEnum.ABRIGADO_RG.value)\n",
    "    if pd.notna(data.get(ColumnsNameEnum.ABRIGADO_CPF.value)):\n",
    "        kargs[\"cpf\"] = data.get(ColumnsNameEnum.ABRIGADO_CPF.value)\n",
    "    if pd.notna(data.get(ColumnsNameEnum.ABRIGADO_NIS.value)):\n",
    "        kargs[\"nis\"] = data.get(ColumnsNameEnum.ABRIGADO_NIS.value)\n",
    "    if pd.notna(data.get(ColumnsNameEnum.ABRIGADO_TITULO_ELEITOR.value)):\n",
    "        kargs[\"titulo_eleitor\"] = data.get(ColumnsNameEnum.ABRIGADO_TITULO_ELEITOR.value)\n",
    "    if pd.notna(data.get(ColumnsNameEnum.ABRIGADO_OUTROS_DOCUMENTOS.value)):\n",
    "        kargs[\"outros_documentos\"] = data.get(ColumnsNameEnum.ABRIGADO_OUTROS_DOCUMENTOS.value)\n",
    "\n",
    "    return DocumentosEntity(**kargs)"
   ]
  },
  {
   "cell_type": "markdown",
   "metadata": {},
   "source": [
    "##### Construção das Informações Adicionais\n",
    "Gera a coleção com as informações adicionais encontradas."
   ]
  },
  {
   "cell_type": "code",
   "execution_count": null,
   "metadata": {},
   "outputs": [],
   "source": [
    "def create_adicional_informacao_entity(df: pd.DataFrame) -> list[InformacaoAdicionalEntity]:\n",
    "    adicional_informacao = []\n",
    "    for field in InformacaoAdicionalColumns:\n",
    "        if pd.notna(df[field.value[0]]) and df[field.value[0]] != \"\":\n",
    "            adicional_informacao.append(\n",
    "                InformacaoAdicionalEntity(\n",
    "                    chave=field.name,\n",
    "                    valor=df[field.value[0]],\n",
    "                )\n",
    "            )\n",
    "\n",
    "    return adicional_informacao"
   ]
  },
  {
   "cell_type": "markdown",
   "metadata": {},
   "source": [
    "#### Pipeline de transformação\n",
    "O pipeline de transformação é responsável por orquestrar a construção das entidades, principalmente apoiando na consistência. \n",
    "Qualquer alteração nesse fluxo deve ser avaliada com muito critério para não impactar as importações."
   ]
  },
  {
   "cell_type": "code",
   "execution_count": null,
   "metadata": {},
   "outputs": [],
   "source": [
    "def transform_csv_data(csv_row):\n",
    "\n",
    "    # Cria entidade abrigado\n",
    "    abrigado_entity = create_abrigado_entity(csv_row)\n",
    "\n",
    "    # Adiciona familiares\n",
    "    abrigado_entity.familiares = create_familiar_entities(csv_row)\n",
    "\n",
    "    # Adiciona informações adicionais\n",
    "    abrigado_entity.additional_info = create_adicional_informacao_entity(csv_row)\n",
    "\n",
    "    return abrigado_entity"
   ]
  },
  {
   "cell_type": "markdown",
   "metadata": {},
   "source": [
    "#### Persistência legada\n",
    "Esse pipeline é utilizado para persistir as entidades legadas na collection principal, `abrigado`. Essa collection é tratada como legada em função da sua modelagem e por não tratar todas as informações enviadas no template `import_abrigados_template_v2.googlesheets.md`. Esse fluxo é responsável apenas pela criação das entidades, uma vez que o dado já foi tratado no Pipeline de transformação."
   ]
  },
  {
   "cell_type": "code",
   "execution_count": null,
   "metadata": {},
   "outputs": [],
   "source": [
    "search_field_name_legacy = \"search_field_name\"\n",
    "abrigo_nome_legacy = None\n",
    "\n",
    "\n",
    "# Cria uma entidade AbrigadoLegacyEntity a partir de uma linha do CSV\n",
    "def create_abrigado_entity_legacy(csv_row):\n",
    "\n",
    "    abrigo_nome_legacy, abrigo_id_legacy = get_abrigo_info(csv_row[ColumnsNameEnum.ABRIGO_NOME.value])\n",
    "\n",
    "    # Se abrigo for vazio ou NaN, não importaremos\n",
    "    if abrigo_id_legacy is None:\n",
    "        if csv_row[ColumnsNameEnum.ABRIGO_NOME.value] == \"\" or pd.isna(csv_row[ColumnsNameEnum.ABRIGO_NOME.value]):\n",
    "            sys.exit(f\"Erro: Abrigo não encontrado para o nome {csv_row[ColumnsNameEnum.ABRIGO_NOME.value]}\")\n",
    "        else:\n",
    "            abrigo_id_legacy = None\n",
    "\n",
    "    abrigado_entity_legacy = AbrigadoLegacyEntity(\n",
    "        nome=csv_row[ColumnsNameEnum.ABRIGADO_NOME.value],\n",
    "        search_field_name=normalize_nome(csv_row[ColumnsNameEnum.ABRIGADO_NOME.value]),\n",
    "        dataNascimento=(\n",
    "            csv_row[ColumnsNameEnum.ABRIGADO_DATA_NASCIMENTO.value] if pd.notna(csv_row[ColumnsNameEnum.ABRIGADO_DATA_NASCIMENTO.value]) else None\n",
    "        ),\n",
    "        endereco=csv_row[ColumnsNameEnum.ABRIGADO_ENDERECO.value] if pd.notna(csv_row[ColumnsNameEnum.ABRIGADO_ENDERECO.value]) else None,\n",
    "        temDocumento=None,\n",
    "        acompanhadoMenor=None,\n",
    "        temRenda=None,\n",
    "        renda=None,\n",
    "        temHabitacao=None,\n",
    "        situacaoMoradia=None,\n",
    "        necessidadesImediatas=None,\n",
    "        cadastradoCadUnico=None,\n",
    "        abrigoId=abrigo_id_legacy,\n",
    "        abrigoNome=abrigo_nome_legacy,\n",
    "        documentos=[format_documento(csv_row[ColumnsNameEnum.ABRIGADO_CPF.value])],\n",
    "        additional_info=[\n",
    "            format_additional_info(ColumnsNameEnum.ABRIGO_DATA_ENTRADA.value, csv_row[ColumnsNameEnum.ABRIGO_DATA_ENTRADA.value]),\n",
    "            format_additional_info(ColumnsNameEnum.ABRIGADO_TELEFONE.value, csv_row[ColumnsNameEnum.ABRIGADO_TELEFONE.value]),\n",
    "            format_additional_info(ColumnsNameEnum.ABRIGADO_BAIRRO.value, csv_row[ColumnsNameEnum.ABRIGADO_BAIRRO.value]),\n",
    "            format_additional_info(ColumnsNameEnum.ABRIGADO_CIDADE.value, csv_row[ColumnsNameEnum.ABRIGADO_CIDADE.value]),\n",
    "            format_additional_info(ColumnsNameEnum.ABRIGADO_BENEFICIO_NOME.value, csv_row[ColumnsNameEnum.ABRIGADO_BENEFICIO_NOME.value]),\n",
    "            format_additional_info(\n",
    "                ColumnsNameEnum.ADICIONAL_REDES_DE_APOIO_INFORMACOES.value, csv_row[ColumnsNameEnum.ADICIONAL_REDES_DE_APOIO_INFORMACOES.value]\n",
    "            ),\n",
    "            format_additional_info(ColumnsNameEnum.ABRIGADO_SAUDE_CONDICAO.value, csv_row[ColumnsNameEnum.ABRIGADO_SAUDE_CONDICAO.value]),\n",
    "            format_additional_info(ColumnsNameEnum.ABRIGADO_SAUDE_MEDICAMENTOS.value, csv_row[ColumnsNameEnum.ABRIGADO_SAUDE_MEDICAMENTOS.value]),\n",
    "        ],\n",
    "    )\n",
    "\n",
    "    # Remove strings vazias\n",
    "    abrigado_entity_legacy.additional_info = sanitize_additional_info(abrigado_entity_legacy.additional_info)\n",
    "\n",
    "    # Retorna a entidade abrigado\n",
    "    return abrigado_entity_legacy\n",
    "\n",
    "\n",
    "# Cria a entidade membro familiar e adiciona ao abrigado\n",
    "def append_membro_familiar_entity_legacy(nome, data_nascimento, grau_parentesco, abrigado_entity_legacy):\n",
    "\n",
    "    # Criar um dicionário com valores válidos apenas\n",
    "    kwargs = {}\n",
    "    if pd.notna(nome) and str(nome).strip() != \"\":\n",
    "        kwargs[\"nome\"] = str(nome).strip()\n",
    "    if pd.notna(data_nascimento) and str(data_nascimento).strip() != \"\":\n",
    "        kwargs[\"data_nascimento\"] = str(data_nascimento).strip()\n",
    "    if pd.notna(grau_parentesco) and str(grau_parentesco).strip() != \"\":\n",
    "        kwargs[\"grau_parentesco\"] = str(grau_parentesco).strip()\n",
    "\n",
    "    # Verifica se há pelo menos um campo válido\n",
    "    if kwargs:\n",
    "        membro_familiar = MembroFamiliarLegacyEntity(**kwargs)\n",
    "        # Adiciona membro familiar à lista de membros familiares se existir a lista\n",
    "        if hasattr(abrigado_entity_legacy, \"grupoFamiliar\"):\n",
    "            if isinstance(abrigado_entity_legacy.grupoFamiliar, list):\n",
    "                abrigado_entity_legacy.grupoFamiliar.append(membro_familiar)\n",
    "            else:\n",
    "                abrigado_entity_legacy.grupoFamiliar = [membro_familiar]\n",
    "        else:\n",
    "            abrigado_entity_legacy.grupoFamiliar = [membro_familiar]\n",
    "\n",
    "    return abrigado_entity_legacy\n",
    "\n",
    "\n",
    "# Cria a entidade responsável e adiciona ao abrigado\n",
    "def append_responsavel_entity_legacy(nome, data_nascimento, abrigado_entity_legacy):\n",
    "    responsavel = ResponsavelLegacyEntity(\n",
    "        nome=nome if pd.notna(nome) and nome != \"\" else None,\n",
    "        data_nascimento=data_nascimento if pd.notna(data_nascimento) and data_nascimento != \"\" else None,\n",
    "        additional_info=None,\n",
    "    )\n",
    "    abrigado_entity_legacy.responsavel = responsavel\n",
    "    return abrigado_entity_legacy\n",
    "\n",
    "\n",
    "# Cria a entidade documento e adiciona ao abrigado\n",
    "def append_documento_entity_legacy(cpf, rg, nis, titulo_eleitor, outros_documentos, abrigado_entity_legacy):\n",
    "    documento_entity = DocumentoLegacyEntity(\n",
    "        cpf=cpf if pd.notna(cpf) and cpf != \"\" else None,\n",
    "        rg=rg if pd.notna(rg) and rg != \"\" else None,\n",
    "        nis=nis if pd.notna(nis) and nis != \"\" else None,\n",
    "        titulo_eleitor=titulo_eleitor if pd.notna(titulo_eleitor) and titulo_eleitor != \"\" else None,\n",
    "        outros_documentos=outros_documentos if pd.notna(outros_documentos) else None,\n",
    "    )\n",
    "    abrigado_entity_legacy.responsavel.documentos = documento_entity\n",
    "    return abrigado_entity_legacy\n",
    "\n",
    "\n",
    "# Cria a entidade abrigado legada e adiciona membros familiares, responsável e documentos\n",
    "def build_abrigado_legacy_entity(csv_row):\n",
    "    # Cria entidade abrigado\n",
    "    abrigado_entity_legacy = create_abrigado_entity_legacy(csv_row)\n",
    "\n",
    "    for i in range(1, 11):\n",
    "        # Adiciona membros familiares se existirem\n",
    "        prefix = f\"{FamiliaresConstansts.FAMILIAR.value}{i}_\"\n",
    "\n",
    "        # Adiciona membro familiar\n",
    "        append_membro_familiar_entity_legacy(\n",
    "            csv_row.get(f\"{prefix}{FamiliaresConstansts.NOME.value}\"),\n",
    "            csv_row.get(f\"{prefix}{FamiliaresConstansts.DATA_NASCIMENTO.value}\"),\n",
    "            csv_row.get(f\"{prefix}{FamiliaresConstansts.PARENTESCO.value}\"),\n",
    "            abrigado_entity_legacy,\n",
    "        )\n",
    "\n",
    "    # Adiciona responsável\n",
    "    append_responsavel_entity_legacy(\n",
    "        csv_row[ColumnsNameEnum.ABRIGADO_NOME.value], csv_row[ColumnsNameEnum.ABRIGADO_DATA_NASCIMENTO.value], abrigado_entity_legacy\n",
    "    )\n",
    "\n",
    "    # Adiciona documentos\n",
    "    append_documento_entity_legacy(\n",
    "        csv_row[ColumnsNameEnum.ABRIGADO_CPF.value],\n",
    "        csv_row[ColumnsNameEnum.ABRIGADO_RG.value],\n",
    "        csv_row[ColumnsNameEnum.ABRIGADO_NIS.value],\n",
    "        csv_row[ColumnsNameEnum.ABRIGADO_TITULO_ELEITOR.value],\n",
    "        csv_row[ColumnsNameEnum.ABRIGADO_OUTROS_DOCUMENTOS.value],\n",
    "        abrigado_entity_legacy,\n",
    "    )\n",
    "\n",
    "    return abrigado_entity_legacy"
   ]
  },
  {
   "cell_type": "markdown",
   "metadata": {},
   "source": [
    "## Execução\n",
    "\n",
    "#### Abrigos não mapeados\n",
    "Para facilitar o processo de integração e não ficar impacto pela falta de normalização do nome dos abrigos, existe um mapeamento de abrigos entre o que estão nas planilhas e o que está cadastrado no sistema.\n",
    "Durante a importação, quando um abrigo não é encontrado no mapeamento, então ele é excluído do dataframe de processamento e é persistido em `missing_abrigo.json`, setado na seção `Configuração de Datasorces`.\n"
   ]
  },
  {
   "cell_type": "markdown",
   "metadata": {},
   "source": [
    "#### Carrega planilha e executa o fluxo do pipeline.\n",
    "Os dados da planilha recebida são tratados nesse fluxo inicial, onde são removidoas linhas duplicadas, formatação de data, validações básicas, como por exemplo a existência do nome do abrigado, entre outras funções.\n",
    "Uma vez aplicado essas transformações iniciais, os dados são evoluidos para os processos de data quality, transformação e persistência."
   ]
  },
  {
   "cell_type": "code",
   "execution_count": null,
   "metadata": {},
   "outputs": [],
   "source": [
    "# Carrega o arquivo xlsx agregador\n",
    "if os.path.exists(datasource_file):\n",
    "    xlsx = pd.ExcelFile(datasource_file)\n",
    "else:\n",
    "    print(f\"Datasource file not found. {datasource_file}\")\n",
    "    sys.exit(1)\n",
    "\n",
    "# Define memória para abrigos não encon trados\n",
    "missing_abrigos = pd.DataFrame()\n",
    "\n",
    "try:\n",
    "    # Faz a leitura da aba master_data_sheet\n",
    "    data_source = pd.read_excel(xlsx, sheet_name=master_data_sheet, header=2, names=column_names, usecols=range(number_of_columns))\n",
    "\n",
    "    # Remove linhas onde a coluna 'nome' é NaN ou vazia\n",
    "    data_source = data_source[data_source[ColumnsNameEnum.ABRIGADO_NOME.value].notna() & (data_source[ColumnsNameEnum.ABRIGADO_NOME.value] != \"\")]\n",
    "\n",
    "    if data_source.empty:\n",
    "        print(\"No valid data found in the master sheet. The field Nome is mandatory. Exiting...\")\n",
    "        sys.exit(1)\n",
    "\n",
    "    # Formata data para compatbilidade com excel, principalmente para datas com ano menor que 1900 e serialização de datas\n",
    "    format_xlsx_datetime(data_source, datetime_fields)\n",
    "\n",
    "    # Identifica duplicatas, mantendo a primeira ocorrência\n",
    "    duplicates = data_source[data_source.duplicated(subset=duplicate_columns_filter, keep=False)]\n",
    "\n",
    "    # Filtra para manter apenas as duplicatas excluídas (ignora a primeira ocorrência)\n",
    "    duplicates_excluded = duplicates.drop_duplicates(subset=duplicate_columns_filter, keep=\"first\")\n",
    "\n",
    "    # Remove linhas duplicadas baseado nas colunas especificadas no DataFrame original\n",
    "    data_source = data_source.drop_duplicates(subset=duplicate_columns_filter, keep=\"first\")\n",
    "\n",
    "    if not duplicates_excluded.empty:\n",
    "        print(\"Registros duplicados que foram excluídos:\")\n",
    "        print(duplicates_excluded)\n",
    "\n",
    "    # Verifica se 'abrigo' é vazia ou NaN e 'responsavel_nome' é válida; se sim, define 'abrigo' como \"Abrigo não informado na importação\"\n",
    "    data_source.loc[\n",
    "        (data_source[ColumnsNameEnum.ABRIGO_NOME.value].isna() | (data_source[ColumnsNameEnum.ABRIGO_NOME.value] == \"\"))\n",
    "        & data_source[ColumnsNameEnum.ABRIGADO_NOME.value].notna()\n",
    "        & (data_source[ColumnsNameEnum.ABRIGADO_NOME.value] != \"\"),\n",
    "        ColumnsNameEnum.ABRIGO_NOME.value,\n",
    "    ] = Constants.ABRIGO_NAO_INFORMADO.value\n",
    "\n",
    "    # Adiciona uma coluna para verificar a existência do abrigo usando get_abrigo_info\n",
    "    data_source[\"abrigo_exists\"] = data_source[ColumnsNameEnum.ABRIGO_NOME.value].apply(lambda x: get_abrigo_info(x)[1] is not None)\n",
    "\n",
    "    # Define colunas para comparação de duplicatas, mantendo todas as colunas originais, exceto a coluna de busca específica\n",
    "    comparison_columns = [col for col in data_source.columns if col not in datetime_fields and col != ColumnsNameEnum.SEARCH_FIELD_NAME.value]\n",
    "\n",
    "    # Identifica registros duplicados usando as colunas definidas para comparação\n",
    "    data_source[\"duplicate\"] = data_source.duplicated(subset=comparison_columns, keep=False)\n",
    "\n",
    "    # Filtra para encontrar registros válidos: não duplicados e com abrigo existente\n",
    "    valid_dataframe = data_source[(data_source[\"abrigo_exists\"]) & (~data_source[\"duplicate\"])]\n",
    "\n",
    "    # Identifica registros com abrigos ausentes\n",
    "    missing_abrigos = data_source[~data_source[\"abrigo_exists\"]]\n",
    "\n",
    "    if not missing_abrigos.empty:\n",
    "        print(f\"Missing abrigos found: {missing_abrigos[ColumnsNameEnum.ABRIGO_NOME.value].unique()}\")\n",
    "        print(\"Removing missing abrigos from new records.\")\n",
    "        # Salvar os abrigos ausentes para arquivo JSON (substitua 'missing_abrigo' pela variável correta com o caminho do arquivo)\n",
    "        missing_abrigos.to_json(missing_abrigo, orient=\"records\", lines=True)\n",
    "\n",
    "        if valid_dataframe.empty:\n",
    "            print(\"All records have missing abrigos. Exiting...\")\n",
    "            sys.exit(1)\n",
    "\n",
    "    # Atualiza data_source para conter apenas registros válidos\n",
    "    data_source = valid_dataframe.copy()\n",
    "\n",
    "    # Opcionalmente, pode-se remover as colunas 'abrigo_exists' e 'duplicate' se não forem mais necessárias\n",
    "    data_source.drop(columns=[\"abrigo_exists\", \"duplicate\"], inplace=True)\n",
    "\n",
    "    # Cria coluna search_field_nome\n",
    "    data_source[ColumnsNameEnum.SEARCH_FIELD_NAME.value] = data_source.apply(\n",
    "        lambda row: normalize_nome(row[ColumnsNameEnum.ABRIGADO_NOME.value]), axis=1\n",
    "    )\n",
    "\n",
    "except ValueError:\n",
    "    print(f\"Error reading sheets. Check the aggreate spreadsheet in the documentation. {master_data_sheet}\")\n",
    "    sys.exit(1)\n",
    "\n",
    "\n",
    "# Transforma os dados, valida e faz o upload\n",
    "try:\n",
    "    # Persiste as entidades ricas no Firestore\n",
    "    upload_to_firestore_checking_duplicated(clientFirestore, collection_name, data_source, transform_csv_data, filter_duplicated_names)\n",
    "\n",
    "    # Persiste as entidades legadas no Firestore\n",
    "    upload_to_firestore_checking_duplicated(\n",
    "        clientFirestore, collection_name_legacy, data_source, build_abrigado_legacy_entity, filter_duplicated_names\n",
    "    )\n",
    "\n",
    "    print(\"Upload finished.\")\n",
    "except Exception as e:\n",
    "    print(f\"Error uploading data to Firestore: {e}\")\n",
    "    sys.exit(1)\n",
    "\n",
    "print(\"Files processing finished.\")"
   ]
  }
 ],
 "metadata": {
  "kernelspec": {
   "display_name": "Python 3",
   "language": "python",
   "name": "python3"
  },
  "language_info": {
   "codemirror_mode": {
    "name": "ipython",
    "version": 3
   },
   "file_extension": ".py",
   "mimetype": "text/x-python",
   "name": "python",
   "nbconvert_exporter": "python",
   "pygments_lexer": "ipython3",
   "version": "3.12.3"
  },
  "polyglot_notebook": {
   "kernelInfo": {
    "defaultKernelName": "csharp",
    "items": [
     {
      "aliases": [],
      "name": "csharp"
     }
    ]
   }
  }
 },
 "nbformat": 4,
 "nbformat_minor": 2
}
